{
 "cells": [
  {
   "cell_type": "markdown",
   "metadata": {},
   "source": [
    "# Tema 1 Introducere Python: numpy, funcții, list comprehension"
   ]
  },
  {
   "cell_type": "markdown",
   "metadata": {},
   "source": [
    "Termen de predare  **25 noiembrie 2023, ora 20:00**  \n",
    "\n",
    " \n",
    "\n",
    "1. Se vor folosi **type annotations** pentru variabile, parametri tuturor funcțiilor, tipuri de retur. Se vor folosi **docstrings** pentru toate funcțiile. Neîndeplinirea acestei cerințe duce la **înjumătățirea punctajului** pentru exercițiul în cauză. \n",
    "1. Se acordă **1 punct** din oficiu.\n",
    "1. Înainte de a trimite tema, verificați acoperirea cerințelor. \n",
    "1. Notebook-ul trebuie să ruleze complet, de sus în jos ``(kernel-> Run All)``. Orice execție oprită duce la punctarea temei până în punctul respectiv.\n",
    "\n",
    "\n",
    "* Numele temei trebuie să conțină numele  și grupa:  IA_Tema1_grupa_nume_prenume.ipynb\n"
   ]
  },
  {
   "cell_type": "markdown",
   "metadata": {},
   "source": [
    "1.(1p) Scrieți un program care primește ca intrare o secvență de cuvinte separate prin virgulă și tipărește cuvintele într-o secvență separată prin virgulă după ce le sortează alfabetic.\n",
    "\n",
    "**Exemplu:**\n",
    "\n",
    "**Input**: caise,mere,banane,ardei,bame,dude,fasole,mango,afine,mazare,rosie,cucuruz,agrise\n",
    "\n",
    "**Output**: afine,agrise,ardei,bame,banane,caise,cucuruz,dude,fasole,mango,mazare,mere,rosie"
   ]
  },
  {
   "cell_type": "code",
   "execution_count": 101,
   "metadata": {},
   "outputs": [],
   "source": [
    "# Imports\n",
    "import numpy as np\n",
    "import math as math"
   ]
  },
  {
   "cell_type": "code",
   "execution_count": 102,
   "metadata": {},
   "outputs": [
    {
     "name": "stdout",
     "output_type": "stream",
     "text": [
      "apples, apricots, bananas, beans, blueberries, corn, gooseberries, mangos, mulberries, okras, peas, peppers\n"
     ]
    }
   ],
   "source": [
    "produce_en:list[str] = ['apricots', 'apples', 'bananas', 'peppers', 'okras', 'mulberries', 'beans', 'mangos', 'blueberries', 'peas', 'corn', 'gooseberries']\n",
    "\n",
    "def print_produce_sorted(produce:list[str], separator:str = ', ') -> None:\n",
    "    ''' \n",
    "    This method sorts all elements in a given list and prints them based on given separator.\n",
    "    By default the separator is a comma and a space.\n",
    "    '''\n",
    "    produce.sort()\n",
    "    print(separator.join(produce))\n",
    "\n",
    "print_produce_sorted(produce_en)"
   ]
  },
  {
   "cell_type": "markdown",
   "metadata": {},
   "source": [
    "2. (1p) Scrieți un program, care va găsi toate numerele din intervalul închis [1000, 3000]  (inclusiv captele), formate doar din cifre pare.\n",
    "\n",
    "Numerele obținute trebuie tipărite într-o secvență separată prin virgulă, pe o singură linie."
   ]
  },
  {
   "cell_type": "code",
   "execution_count": 103,
   "metadata": {},
   "outputs": [
    {
     "name": "stdout",
     "output_type": "stream",
     "text": [
      "2000, 2002, 2004, 2006, 2008, 2020, 2022, 2024, 2026, 2028, 2040, 2042, 2044, 2046, 2048, 2060, 2062, 2064, 2066, 2068, 2080, 2082, 2084, 2086, 2088, 2200, 2202, 2204, 2206, 2208, 2220, 2222, 2224, 2226, 2228, 2240, 2242, 2244, 2246, 2248, 2260, 2262, 2264, 2266, 2268, 2280, 2282, 2284, 2286, 2288, 2400, 2402, 2404, 2406, 2408, 2420, 2422, 2424, 2426, 2428, 2440, 2442, 2444, 2446, 2448, 2460, 2462, 2464, 2466, 2468, 2480, 2482, 2484, 2486, 2488, 2600, 2602, 2604, 2606, 2608, 2620, 2622, 2624, 2626, 2628, 2640, 2642, 2644, 2646, 2648, 2660, 2662, 2664, 2666, 2668, 2680, 2682, 2684, 2686, 2688, 2800, 2802, 2804, 2806, 2808, 2820, 2822, 2824, 2826, 2828, 2840, 2842, 2844, 2846, 2848, 2860, 2862, 2864, 2866, 2868, 2880, 2882, 2884, 2886, 2888\n"
     ]
    }
   ],
   "source": [
    "def has_only_even_digits(number:int) -> bool:\n",
    "    ''' \n",
    "    This method returns True if all digits from a given number are even and False otherwise.\n",
    "    '''\n",
    "    temp_num:str = str(number)\n",
    "\n",
    "    for digit in temp_num:\n",
    "        if (int(digit) % 2 == 1):\n",
    "            return False\n",
    "    return True\n",
    "\n",
    "\n",
    "def print_even_digits_numbers_from_interval(left:int = 1000, right:int = 3000) -> None:\n",
    "    ''' \n",
    "    This method prints all numbers from a given interval such that all their digits are even.\n",
    "    By default the interval is [1000, 3000].\n",
    "    '''\n",
    "    even_digits_numbers:list[str] = [str(num) for num in range(left, right + 1) if has_only_even_digits(num)]\n",
    "    print(', '.join(even_digits_numbers))\n",
    "\n",
    "\n",
    "print_even_digits_numbers_from_interval(1000, 3000)"
   ]
  },
  {
   "cell_type": "markdown",
   "metadata": {},
   "source": [
    "3. (2p) Fiind dată o listă de cuvinte:\n",
    "    1. Înlocuiți consoanele cu '*'.\n",
    "    2. Determinați cuvintele cu cele mai multe vocale.\n",
    "    3. Înlocuiți consoanele cu a treia literă a cuvântului. Cuvintele de 1 sau 2 litere vor fi înlocuite cu prima literă.\n",
    "    4. Determinați cuvintele ce conțin cel puțin 3 litere comune cu un cuvânt dat. "
   ]
  },
  {
   "cell_type": "code",
   "execution_count": 104,
   "metadata": {},
   "outputs": [
    {
     "name": "stdout",
     "output_type": "stream",
     "text": [
      "a*a, *e*e, e*e*a, a*, *a, *a*ia\n",
      "mere, elena, maria\n",
      "aaa, rere, eeeea, a, p, raria\n",
      "input_word: lenes => result: elena\n",
      "input_word: camere => result: mere, maria\n"
     ]
    }
   ],
   "source": [
    "words_ro:list[str] = ['ana', 'mere', 'elena','an','pa','maria']\n",
    "\n",
    "# 1. Înlocuiți consoanele cu '*'.\n",
    "# răspuns: ['a*a','*e*e','e*e*a','a*','*a']\n",
    "\n",
    "en_vowels:str = 'aeiou'\n",
    "def print_words_with_replaced_consonants(words:list[str], symbol:str = '*') -> None:\n",
    "    ''' \n",
    "    This method replaces all consontants from a given list with a given symbol list and prints the result.\n",
    "    By default the symbol is an asterisk '*'. \n",
    "    '''\n",
    "    words = [''.join(symbol if letter.lower() not in en_vowels else letter for letter in word) for word in words]\n",
    "    print(', '.join(words))\n",
    "\n",
    "\n",
    "# 2. Determinați cuvintele cu cele mai multe vocale.\n",
    "# răspuns: elena maria\n",
    "def print_words_with_most_vowels(words:list[str]) -> None:\n",
    "    '''\n",
    "    This method finds the words with most vowels and prints them\n",
    "    '''\n",
    "    vowels_count_to_word:dict[int, list[str]] = {}\n",
    "    for word in words:\n",
    "        vowel_count:int = 0\n",
    "        for letter in word:\n",
    "            if letter not in en_vowels:\n",
    "                vowel_count += 1\n",
    "        vowels_count_to_word.setdefault(vowel_count, []).append(word)\n",
    "        \n",
    "    print(', '.join(vowels_count_to_word[vowel_count]))\n",
    "    \n",
    "    \n",
    "# 3. Înlocuiți consoanele cu a treia literă a cuvântului. Cuvintele de 1 sau 2 litere vor fi înlocuite cu prima literă.\n",
    "# răspuns: ['aaa', 'rere', 'eeeea','a','p']\n",
    "def print_words_letter_repeated(words:list[str], idx:int = 2) -> None:\n",
    "    ''' \n",
    "    This method replaces all consonants in all words of a given list with a given letter at a given index.\n",
    "    By default the letter is at index 2.\n",
    "    If the length of the word is less than the given index, it will replace the word with the first letter\n",
    "    '''\n",
    "    words = [word[0] if idx >= len(word) else (''.join(word[idx] if letter.lower() not in en_vowels else letter for letter in word)) for word in words]\n",
    "    print(', '.join(words))\n",
    "\n",
    "\n",
    "# 4. Determinați cuvintele ce conțin cel puțin 3 litere comune cu un cuvânt dat.\n",
    "# cuvant_dat = 'lenes' => răspuns: 'elena'\n",
    "# cuvant_dat = 'camere' => răspuns: 'mere','elena'\n",
    "def print_words_with_common_letters(words:list, input_word:str, common_letters_target:int = 3) -> None:\n",
    "    ''' \n",
    "    This method prints the words from a given list that have a least a given number of common letter with a given word.\n",
    "    By default the common letters numbers is 3.\n",
    "    '''\n",
    "    most_common_letters_words:list = []\n",
    "    for word in words:\n",
    "        common_letters_count = len(set(input_word) & set(word))\n",
    "        if (common_letters_count >= common_letters_target):\n",
    "            most_common_letters_words.append(word)\n",
    "    print(f\"input_word: {input_word} => result: {', '.join(most_common_letters_words)}\")\n",
    "    \n",
    "# Tests   \n",
    "print_words_with_replaced_consonants(words_ro)\n",
    "print_words_with_most_vowels(words_ro)\n",
    "print_words_letter_repeated(words_ro)\n",
    "print_words_with_common_letters(words_ro, 'lenes')\n",
    "print_words_with_common_letters(words_ro, 'camere')"
   ]
  },
  {
   "cell_type": "markdown",
   "metadata": {},
   "source": [
    "4. (2p) Se da un dicționar ORAR, în care cheile sunt zilele săptămânii, iar valorile sunt materiile. Să se returneze:\n",
    "\t1. Zilele care nu conțin o materie dată.\n",
    "    2. Zilele cu cele mai multe ore.\n",
    "\t3. Zilele care conțin (dar nu coincid cu) o listă de materii dată.\n",
    "\t4. Zilele cu cele mai multe materii diferite.\n",
    "\t5. Toate perechile de zile A, B pentru care lista de materii a lui A este inclusă în (dar nu coincide cu) lista de materii a lui B.\n",
    "    6. Perechile de zile A,B care diferă prin cel puțin 2 materii.\n",
    "    \n",
    "\n",
    "\tIndicație: folosiți tipul de date *set*."
   ]
  },
  {
   "cell_type": "code",
   "execution_count": 105,
   "metadata": {},
   "outputs": [],
   "source": [
    "ORAR = {\n",
    "    \"Luni\" : [\"Română\", \"Germană\", \"Germană\", \"Matematică\"],\n",
    "    \"Marti\": [\"Sport\", \"Matematică\", \"Germană\", \"Geografie\", \"Română\"],\n",
    "    \"Miercuri\": [\"Germană\", \"Germană\", \"Engleză\", \"Religie\", \"Română\"],\n",
    "    \"Joi\": [\"Matematică\", \"Germană\", \"Istorie\", \"Română\", \"Română\", \"Engleză\"],\n",
    "    \"Vineri\": [\"Sport\", \"Matematică\", \"Germană\", \"Română\"]\n",
    "}"
   ]
  },
  {
   "cell_type": "code",
   "execution_count": 106,
   "metadata": {},
   "outputs": [
    {
     "name": "stdout",
     "output_type": "stream",
     "text": [
      "Days without Matematică.\n",
      "Expected: ['Miercuri']\n",
      "  Actual: ['Miercuri']\n"
     ]
    }
   ],
   "source": [
    "# A: Zilele care nu conțin o materie dată. \n",
    "# Miercuri\n",
    "materie = \"Matematică\"\n",
    "expected_days_without_lecture:list[str] = ['Miercuri']\n",
    "\n",
    "\n",
    "def days_without_lecture(syllabus:dict[str, list[str]] = ORAR, lecture:str = materie) -> list[str]:  \n",
    "    ''' \n",
    "    This method returns a list of all days without a given lecture.\n",
    "    '''\n",
    "    return [day for day in syllabus if lecture not in syllabus[day]]\n",
    "\n",
    "\n",
    "print(f'Days without {materie}.\\nExpected: { expected_days_without_lecture }\\n  Actual: { days_without_lecture() }')"
   ]
  },
  {
   "cell_type": "code",
   "execution_count": 107,
   "metadata": {},
   "outputs": [
    {
     "name": "stdout",
     "output_type": "stream",
     "text": [
      "Days with most lectures.\n",
      "Expected: ['Joi']\n",
      "  Actual: ['Joi']\n"
     ]
    }
   ],
   "source": [
    "# B: Zilele cu cele mai multe ore.\n",
    "# Joi\n",
    "expected_days_with_most_lectures:list[str] = ['Joi']\n",
    "\n",
    "\n",
    "def days_with_most_lectures(syllabus:dict[str, list[str]] = ORAR) -> list[str]:\n",
    "    ''' \n",
    "    This method returns a list of days with the most number of lectures.\n",
    "    '''\n",
    "    return [day for day in syllabus if len(syllabus[day]) == len(max(syllabus.values(), key=len))]\n",
    "\n",
    "\n",
    "print(f'Days with most lectures.\\nExpected: { expected_days_with_most_lectures }\\n  Actual: { days_with_most_lectures() }')"
   ]
  },
  {
   "cell_type": "code",
   "execution_count": 108,
   "metadata": {},
   "outputs": [
    {
     "name": "stdout",
     "output_type": "stream",
     "text": [
      "Days include lectures.\n",
      "Expected: ['Miercuri', 'Joi']\n",
      "  Actual: ['Miercuri', 'Joi']\n"
     ]
    }
   ],
   "source": [
    "# C: Zilele care conțin (dar nu coincid cu) o listă de materii dată.\n",
    "# [\"Miercuri\",\"Joi\"]\n",
    "materii = [\"Germană\", \"Română\", \"Engleză\"]\n",
    "expected_days_include_lectures = ['Miercuri', 'Joi']\n",
    "\n",
    "\n",
    "def days_include_lectures(syllabus:dict[str, list[str]] = ORAR, lectures:list[str] = materii) -> list[str]:\n",
    "    ''' \n",
    "    This method returns a list of days which include all lectures from a given list.\n",
    "    '''\n",
    "    return [day for day in syllabus if set(lectures).issubset(set(syllabus[day]))]\n",
    "\n",
    "\n",
    "print(f'Days include lectures.\\nExpected: { expected_days_include_lectures }\\n  Actual: { days_include_lectures() }')"
   ]
  },
  {
   "cell_type": "code",
   "execution_count": 109,
   "metadata": {},
   "outputs": [
    {
     "name": "stdout",
     "output_type": "stream",
     "text": [
      "Days with most unique lectures.\n",
      "Expected: ['Marti', 'Joi']\n",
      "  Actual: ['Marti', 'Joi']\n"
     ]
    }
   ],
   "source": [
    "# D: Zilele cu cele mai multe materii diferite.\n",
    "# [Marti\", Joi\"]\n",
    "expected_days_with_most_unique_lectures:list[str] = ['Marti', 'Joi']\n",
    "\n",
    "\n",
    "def days_with_most_unique_lectures(syllabus:dict[str, list[str]] = ORAR) -> list[str]:\n",
    "    ''' \n",
    "    This method return a list of days with most unique lectures.\n",
    "    '''\n",
    "    return [day for day in syllabus if len(set(syllabus[day])) == max(len(set(syllabus[day])) for day in syllabus)]\n",
    "\n",
    "print(f'Days with most unique lectures.\\nExpected: { expected_days_with_most_unique_lectures }\\n  Actual: { days_with_most_unique_lectures() }')"
   ]
  },
  {
   "cell_type": "code",
   "execution_count": 110,
   "metadata": {},
   "outputs": [
    {
     "name": "stdout",
     "output_type": "stream",
     "text": [
      "Day pairs which include lectures:\n",
      "Expected: [('Luni', 'Marti'), ('Luni', 'Joi'), ('Luni', 'Vineri'), ('Vineri', 'Marti')]\n",
      "  Actual: [('Luni', 'Marti'), ('Luni', 'Joi'), ('Luni', 'Vineri'), ('Vineri', 'Marti')]\n"
     ]
    }
   ],
   "source": [
    "# E: Toate perechile de zile A, B pentru care lista de materii a lui A este inclusă în (dar nu coincide cu) \n",
    "# lista de materii a lui B.\n",
    "# [(\"Luni\",\"Marti\"),(\"Luni\",\"Joi\"),(\"Luni\",\"Vineri\"), (\"Vineri\",\"Marti\")]\n",
    "expected_day_pairs_first_exists_in_second:list[tuple[str,str]] = [\n",
    "    ('Luni', 'Marti'), \n",
    "    ('Luni', 'Joi'), \n",
    "    ('Luni', 'Vineri'), \n",
    "    ('Vineri', 'Marti')\n",
    "]\n",
    "\n",
    "\n",
    "def day_pairs_first_exists_in_second(syllabus:dict[str, list[str]] = ORAR) -> list[tuple[str,str]]:\n",
    "    ''' \n",
    "    This method returns a list of pairs such that the list of lectures from first exists in the list of lectures from second\n",
    "    '''\n",
    "    return [(day1, day2) for day1 in syllabus for day2 in syllabus if set(syllabus[day1]) <= set(syllabus[day2]) and day1 != day2]\n",
    "\n",
    "\n",
    "print(f'Day pairs which include lectures:\\nExpected: { expected_day_pairs_first_exists_in_second }\\n  Actual: { day_pairs_first_exists_in_second() }') "
   ]
  },
  {
   "cell_type": "code",
   "execution_count": 111,
   "metadata": {},
   "outputs": [
    {
     "name": "stdout",
     "output_type": "stream",
     "text": [
      "Expected:\n",
      "('Marti', 'Luni'): ['Sport', 'Geografie']\n",
      "('Miercuri', 'Luni'): ['Engleza', 'Religie']\n",
      "('Joi', 'Luni'): ['Istorie', 'Engleza']\n",
      "('Miercuri', 'Marti'): ['Engleza', 'Religie']\n",
      "('Miercuri', 'Vineri'): ['Engleza', 'Religie']\n",
      "('Joi', 'Marti'): ['Istorie', 'Engleza']\n",
      "('Joi', 'Miercuri'): ['Istorie', 'Romana']\n",
      "Actual:\n",
      "('Marti', 'Luni'): ['Sport', 'Geografie']\n",
      "('Miercuri', 'Luni'): ['Engleză', 'Religie']\n",
      "('Joi', 'Luni'): ['Istorie', 'Engleză']\n",
      "('Marti', 'Miercuri'): ['Sport', 'Matematică', 'Geografie']\n",
      "('Marti', 'Joi'): ['Sport', 'Geografie']\n",
      "('Joi', 'Miercuri'): ['Matematică', 'Istorie']\n",
      "('Miercuri', 'Vineri'): ['Engleză', 'Religie']\n",
      "('Joi', 'Vineri'): ['Istorie', 'Engleză']\n"
     ]
    }
   ],
   "source": [
    "# F:Perechile de zile A,B care diferă prin cel puțin 2 materii. \n",
    "# \"Marți\" -  Luni\" = [\"Sport\",\"Georgrafie\"],\n",
    "# \"Miercuri\" - \"Luni\" = [\"Engleză\", \"Religie\"] ,\n",
    "# \"Joi\" - \"Luni\" = [\"Istorie\",\"Engleză\"]\n",
    "# \"Miercuri\" - \"Marti\" = [\"Engleză\", \"Religie\"]\n",
    "# \"Miercuri\" - \"Vineri\" = [\"Engleză\", \"Religie\"]\n",
    "# \"Joi\"- \"Marti\" = [\"Istorie\",\"Engleză\"]\n",
    "# \"Joi\" - \"Miercuri\" = [\"Istorie\",\"Română\"]\n",
    "# etc.\n",
    "expected_day_pairs_to_lectures_difference = {\n",
    "    ('Marti', 'Luni') : ['Sport', 'Geografie'],\n",
    "    ('Miercuri', 'Luni') : ['Engleza', 'Religie'],\n",
    "    ('Joi', 'Luni') : ['Istorie', 'Engleza'],\n",
    "    ('Miercuri', 'Marti') : ['Engleza', 'Religie'],\n",
    "    ('Miercuri', 'Vineri') : ['Engleza', 'Religie'],\n",
    "    ('Joi', 'Marti') : ['Istorie', 'Engleza'],\n",
    "    ('Joi', 'Miercuri') : ['Istorie', 'Romana'],\n",
    "}\n",
    "\n",
    "\n",
    "def day_pairs_to_lectures_difference(syllabus:dict[str, list[str]] = ORAR, diff_lect_count:int = 2) -> dict[tuple[str,str], list[str]]:\n",
    "    ''' \n",
    "    This method returns a dictionary of day pairs to a list of lectures if the lectures from the first and second is greater or equal to a given lecture count.\n",
    "    By default the difference lecture count is 2. \n",
    "    '''\n",
    "    result_dict = {}\n",
    "\n",
    "    for day1 in syllabus:\n",
    "        for day2 in syllabus:\n",
    "            if day1 != day2:\n",
    "                pair = (day1, day2)\n",
    "                r_pair = (day2, day1)\n",
    "\n",
    "                if pair in result_dict or r_pair in result_dict:\n",
    "                    continue\n",
    "\n",
    "                diff = set(syllabus[day1]) ^ set(syllabus[day2])\n",
    "                day1_diff = [lect for lect in syllabus[day1] if lect in diff]\n",
    "                day2_diff = [lect for lect in syllabus[day2] if lect in diff]\n",
    "\n",
    "                if len(day1_diff) >= diff_lect_count:\n",
    "                    result_dict[pair] = day1_diff\n",
    "                elif len(day2_diff) >= diff_lect_count:\n",
    "                    result_dict[r_pair] = day2_diff\n",
    "\n",
    "    return result_dict\n",
    "\n",
    "print(f'Expected:\\n{'\\n'.join([f'{pair}: {lects}' for pair, lects in expected_day_pairs_to_lectures_difference.items()])}')\n",
    "print(f'Actual:\\n{'\\n'.join([f'{pair}: {lects}' for pair, lects in day_pairs_to_lectures_difference().items()])}')\n"
   ]
  },
  {
   "cell_type": "markdown",
   "metadata": {},
   "source": [
    "5. (1p) Scrieți o funcție care duplicatele din secvențe.\n",
    "\n",
    "Exemplu: ['a','a','a','a','b','c','c','a','a','d','e','e','e','e'] => ['a','b','c','a','d','e']"
   ]
  },
  {
   "cell_type": "code",
   "execution_count": 112,
   "metadata": {},
   "outputs": [
    {
     "name": "stdout",
     "output_type": "stream",
     "text": [
      "Expected: ['a', 'b', 'c', 'd', 'e']\n",
      "  Actual: ['a', 'b', 'c', 'd', 'e']\n"
     ]
    }
   ],
   "source": [
    "expected_removed_duplicates:list[str] = ['a', 'b', 'c', 'd', 'e']\n",
    "\n",
    "\n",
    "def erase_duplicates(input:list[str] = ['a','a','a','a', 'b', 'c', 'c', 'a', 'a', 'd', 'e','e','e','e']) -> list[str]:\n",
    "    ''' \n",
    "    This method returns a list of elements after removing duplicates.\n",
    "    '''\n",
    "    return sorted(list(set(input)))\n",
    "\n",
    "print(f'Expected: {expected_removed_duplicates}\\n  Actual: {erase_duplicates()}')"
   ]
  },
  {
   "cell_type": "markdown",
   "metadata": {},
   "source": [
    "6. (1p) Se dă un vector NumPy. Să se determine lista elementelor pătrate perfecte. Formați o matrice pătratică de dimensiune  `len(v)/2` care să conțină elementele pătrate perfecte din vector.\n",
    "Completați pozițiile din matrice rămase libere cu cmmmc al rădăcinilor elementelor pătrate perfecte .  "
   ]
  },
  {
   "cell_type": "code",
   "execution_count": 113,
   "metadata": {},
   "outputs": [
    {
     "name": "stdout",
     "output_type": "stream",
     "text": [
      "[[ 1  4  9]\n",
      " [16 25 36]\n",
      " [49  1  1]]\n"
     ]
    }
   ],
   "source": [
    "def fill_matrix(vec:np.ndarray = [1,2,3,4,5,6,7]) -> np.ndarray:\n",
    "    ''' \n",
    "    This method returns a matrix containing the squares of each element from the given list.\n",
    "    '''\n",
    "\n",
    "    squares_vec:np.ndarray = [num ** 2 for num in vec]\n",
    "    matrix_dim = int(len(squares_vec) / 2)\n",
    "    gcd:int = np.gcd.reduce(squares_vec)\n",
    "    gcd_vec:list = [gcd for i in range(matrix_dim ** 2 - len(squares_vec))]\n",
    "    result_list = np.concatenate((squares_vec, gcd_vec), axis=0)\n",
    "    matrix_result = result_list.reshape(matrix_dim, matrix_dim)\n",
    "\n",
    "    return matrix_result\n",
    "\n",
    "print(fill_matrix())"
   ]
  },
  {
   "cell_type": "markdown",
   "metadata": {},
   "source": [
    "7 (1p)  Pentru o matrice de numere să se determine suma dintre minimul si maximul al pătratelor sau cuburilor elementelor de pe linii sau de pe coloane, în funcție de valoarea unor parametri:\n",
    " + de tip boolean `compute_on_columns` \n",
    " + de tip int `power` = 2 sau 3"
   ]
  },
  {
   "cell_type": "code",
   "execution_count": 114,
   "metadata": {},
   "outputs": [
    {
     "name": "stdout",
     "output_type": "stream",
     "text": [
      "Sum = 287\n"
     ]
    }
   ],
   "source": [
    "def compute_min_max_sum(matrix:np.matrix = [[6,2,3,4,7],[5,3,5,8,2],[8,5,3,2,1],[9,2,5,7,2]], compute_on_columns:bool = True, power:int = 2) -> int:\n",
    "    ''' \n",
    "    This method returns sum between the minimum and maximum values to a given power in a given matrix. \n",
    "    These values can be computed either by row or column.\n",
    "    By default, compute_on_columns is True.\n",
    "    By default, power is 2.\n",
    "    '''\n",
    "    to_compute = 0 if compute_on_columns == True else 1\n",
    "\n",
    "    min_val:np.ndarray = np.min(matrix, axis=to_compute)\n",
    "    max_val:np.ndarray = np.max(matrix, axis=to_compute)\n",
    "\n",
    "    min_val = min_val ** power\n",
    "    max_val = max_val ** power\n",
    "\n",
    "    min_sum:int = np.sum(min_val)\n",
    "    max_sum:int = np.sum(max_val)\n",
    "\n",
    "    return min_sum + max_sum\n",
    "    \n",
    "\n",
    "print(f'Sum = {compute_min_max_sum()}')"
   ]
  }
 ],
 "metadata": {
  "kernelspec": {
   "display_name": "Python 3 (ipykernel)",
   "language": "python",
   "name": "python3"
  },
  "language_info": {
   "codemirror_mode": {
    "name": "ipython",
    "version": 3
   },
   "file_extension": ".py",
   "mimetype": "text/x-python",
   "name": "python",
   "nbconvert_exporter": "python",
   "pygments_lexer": "ipython3",
   "version": "3.12.0"
  }
 },
 "nbformat": 4,
 "nbformat_minor": 2
}
