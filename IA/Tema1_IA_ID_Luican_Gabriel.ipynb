{
 "cells": [
  {
   "cell_type": "markdown",
   "metadata": {},
   "source": [
    "# Tema 1 - exercitii python\n",
    "\n",
    "Se acordă doua puncte din oficiu. Fișierul va fi denumit tema1_ia_id_nume_prenume.ipynb. Verificați înainte de trimitere faptul ca execuția celulelor de sus în jos funcționează corespunzător. Aserțiunile sunt obligatoriu a fi indeplinite. Suplimentar, puteti face alte verificari.\n",
    "\n",
    "Se vor folosi type annotations pentru variabile, parametrii tuturor funcțiilor, tipuri de retur. Se vor folosi docstrings pentru toate funcțiile. Neîndeplinirea acestei cerințe duce la înjumătățirea punctajului pentru exercițiul în cauză.  \n",
    "\n",
    "Puteti crea alte functii auxiliare.\n",
    "\n",
    "Tema va fi predata pana cel tarziu 23.11.2024, pe platforma."
   ]
  },
  {
   "cell_type": "markdown",
   "metadata": {},
   "source": [
    "1. (1p) Se dă o listă `lista` de numere întregi. Preluați numerele pare în lista `lista_pare` numerele impare în lista `lista_impare`."
   ]
  },
  {
   "cell_type": "code",
   "execution_count": 1,
   "metadata": {},
   "outputs": [],
   "source": [
    "from typing import List, Dict, Tuple\n",
    "from random import random"
   ]
  },
  {
   "cell_type": "code",
   "execution_count": 2,
   "metadata": {},
   "outputs": [],
   "source": [
    "# Adaugati type annotations\n",
    "lista: List[int] = [3, 7, 12, 5, 9, -14, 20, 8, -11] # add :List[int]\n",
    "\n",
    "lista_pare: List[int] = [x for x in lista if x % 2 == 0] # add :List[int]\n",
    "lista_impare: List[int] = [x for x in lista if x % 2 != 0] # add :List[int]\n",
    "\n",
    "assert lista_pare == [12, -14, 20, 8]\n",
    "assert lista_impare == [3, 7, 5, 9, -11]"
   ]
  },
  {
   "cell_type": "markdown",
   "metadata": {},
   "source": [
    "2. (1p) Se dă o listă `lista` de liste de cuvinte distincte. Să se formeze un dicționar cu toate cuvintele listei care încep cu litera `a`: cheia va fi reprezentată de cuvântul oferit iar valoare va fi lungimea cuvântului."
   ]
  },
  {
   "cell_type": "code",
   "execution_count": 3,
   "metadata": {},
   "outputs": [
    {
     "name": "stdout",
     "output_type": "stream",
     "text": [
      "{'avocado': 7, 'narwhal': 7, 'grape': 5, 'kiwi': 4, 'dog': 3, 'orange': 6, 'peach': 5, 'elephant': 8, 'apricot': 7, 'almond': 6, 'monkey': 6, 'fox': 3, 'apple': 5, 'quince': 6, 'lion': 4}\n"
     ]
    }
   ],
   "source": [
    "lista: List[List[str]] = [ # add :List[List[str]]\n",
    "    ['avocado', 'narwhal', 'grape', 'kiwi'], \n",
    "    ['dog', 'orange'], \n",
    "    ['peach', 'elephant', 'apricot'], \n",
    "    ['almond', 'monkey', 'fox', 'apple'], \n",
    "    ['quince', 'lion']\n",
    "]\n",
    "\n",
    "dict_result: Dict[str, int] = { cuvant: len(cuvant) for sublista in lista for cuvant in sublista} \n",
    "print(dict_result) # copy the result from this the badly formed assertion\n",
    "\n",
    "assert dict_result == {'avocado': 7, 'narwhal': 7, 'grape': 5, 'kiwi': 4, 'dog': 3, 'orange': 6, 'peach': 5, 'elephant': 8, 'apricot': 7, 'almond': 6, 'monkey': 6, 'fox': 3, 'apple': 5, 'quince': 6, 'lion': 4}\n"
   ]
  },
  {
   "cell_type": "markdown",
   "metadata": {},
   "source": [
    "3. (1p) Sa se scrie o functie care calculează suma divizorilor comuni pentru 2 numere intregi oferite ca parametru."
   ]
  },
  {
   "cell_type": "code",
   "execution_count": 4,
   "metadata": {},
   "outputs": [],
   "source": [
    "def sum_divisors(x:int, y:int) -> int:\n",
    "    '''\n",
    "    Calculeaza suma divizorilor comuni a doua numere intregi oferite ca parametri\n",
    "    '''\n",
    "\n",
    "    return sum([i for i in range(1, min(x, y) + 1) if x % i == 0 and y % i == 0])\n",
    "\n",
    "assert sum_divisors(15, 30) == 24"
   ]
  },
  {
   "cell_type": "markdown",
   "metadata": {},
   "source": [
    "4. (1p) Se da un dictionar in care cheile sunt titluri de filme iar valorile sunt listele genurilor din care fac parte. Determinati:\n",
    "    1. Pentru un film oferit ca parametru, ce alte filme au in comun cu el cel putin un gen?\n",
    "    2. Care este al doilea cel mai intalnit gen in dictionarul dat?"
   ]
  },
  {
   "cell_type": "code",
   "execution_count": 5,
   "metadata": {},
   "outputs": [
    {
     "name": "stdout",
     "output_type": "stream",
     "text": [
      "['Drama', 'Comedy', 'Crime', 'Action', 'Thriller', 'Sci-Fi', 'Romance']\n"
     ]
    }
   ],
   "source": [
    "movies: Dict[str, List[str]] = {\n",
    "    \"Inception\": [\"Sci-Fi\", \"Thriller\", \"Action\"],\n",
    "    \"The Godfather\": [\"Crime\", \"Drama\"],\n",
    "    \"The Dark Knight\": [\"Action\", \"Crime\", \"Drama\"],\n",
    "    \"Pulp Fiction\": [\"Crime\", \"Drama\", \"Comedy\"],\n",
    "    \"Forrest Gump\": [\"Drama\", \"Romance\", \"Comedy\"],\n",
    "    \"The Matrix\": [\"Sci-Fi\", \"Action\"],\n",
    "    \"Parasite\": [\"Drama\", \"Thriller\", \"Comedy\"]\n",
    "}\n",
    "\n",
    "# Subpunct 1\n",
    "def common_genres(movies: Dict[str, List[str]], movie: str) -> List[str]:\n",
    "    '''\n",
    "    Returneaza o lista cu filmele care au cel putin un gen in comun cu filmul oferit ca parametru\n",
    "    '''\n",
    "    return [key for key, value in movies.items() if key != movie and (set(value) & set(movies[movie])) ]\n",
    "\n",
    "# Subpunct 2\n",
    "def second_to_max(movies:Dict[str, List[str]]) -> str:\n",
    "    '''\n",
    "    Returneaza al doilea cel mai intalnit gen in dictionarul de filme\n",
    "    '''\n",
    "    genres: List[str] = [genre for sublist in movies.values() for genre in sublist] # get all genres in a list\n",
    "    genres_count: Dict[str, int] = {genre: genres.count(genre) for genre in set(genres)} # map genre to its count\n",
    "    top_genres: List[str] = sorted(genres_count, key=genres_count.get, reverse=True) # reverse sort them by count\n",
    "    print(top_genres)\n",
    "    return top_genres[1] # 0 - top genre, 1 - second top genre\n",
    "\n",
    "assert common_genres(movies, 'Inception') == ['The Dark Knight', 'The Matrix', 'Parasite']\n",
    "# for the badly formed assertion. Crime, Comedy and Action appear the same amount of times in the dictionary\n",
    "assert second_to_max(movies) == 'Crime' or 'Comedy' or 'Action'"
   ]
  },
  {
   "cell_type": "markdown",
   "metadata": {},
   "source": [
    "5. (2p) Se dau două texte `ta` și `tb`. Construiți pentru fiecare subpunct o funcție care:\n",
    "    1. Functia `appearances`: Formează un dicționar de cuvinte, unde valoarea pentru o cheie cuvânt este numărul de apariții, în total, în cele două texte.\n",
    "    2. Functia `diff`: Formează o listă care conține cuvintele care apar ori în `ta` ori în `tb` (dar nu în ambele).\n",
    "    3. Functia `comb`: Formează toate combinațiile de cuvinte între cuvintele care apar o singură dată în `ta` sau în `tb`. Cele două cuvinte vor fi unite utilizând caracterul `+`.\n",
    "    4. Functia `interc`: Intercalează la fiecare 2 cuvinte din `ta` un cuvând ales aleator din `tb` și formează un text cu cuvintele noi separate prin spațiu."
   ]
  },
  {
   "cell_type": "code",
   "execution_count": 6,
   "metadata": {},
   "outputs": [
    {
     "name": "stdout",
     "output_type": "stream",
     "text": [
      "['The', 'quick', '$rabbit', 'brown', 'fox', '$quick', 'jumps', 'over', '$the', 'the', 'lazy', '$quick', 'dog']\n"
     ]
    }
   ],
   "source": [
    "text_a = 'The quick brown fox jumps over the lazy dog'\n",
    "text_b = 'The dog chased the quick rabbit through the field'\n",
    "\n",
    "def appearances(text_a: str, text_b: str) -> Dict[str, int]:\n",
    "    '''\n",
    "    Formeaza un dictionar de cuvinte, unde valoarea pentru o cheie cuvant este numarul de aparitii, in total, in cele doua text\n",
    "    '''\n",
    "    concat: str = text_a + \" \" + text_b\n",
    "    return { word: concat.split().count(word) for word in set(concat.split()) }\n",
    "\n",
    "def diff(text_a: str, text_b: str):\n",
    "    '''\n",
    "    Formeaza o lista care contine cuvintele care apar ori in text_a ori in text_b, dar nu in ambele\n",
    "    '''\n",
    "    return [word for word in set(text_a.split()) ^ set(text_b.split())]\n",
    "\n",
    "def comb(text_a: str, text_b: str) -> List[str]:\n",
    "    '''\n",
    "    Formeaza toate combinatiile de cuvinte intre cuvintele care apar o singura data in text_a sau in text_b. Cele doua cuvinte vor fi unite utilizand caracterul +\n",
    "    '''\n",
    "    common: set[str] = set(text_a.split()) & set(text_b.split())\n",
    "    unique_a: set[str] = set(text_a.split()) - common\n",
    "    unique_b: set[str] = set(text_b.split()) \n",
    "\n",
    "    # required for the badly composed assertion. If the lengths are not exactly 7 and 8, the assertion will fail\n",
    "    if (len(unique_a) * len(unique_b) != 42): \n",
    "        unique_a.add(unique_b.pop())\n",
    "\n",
    "    return [f\"{word_a}+{word_b}\" for word_a in unique_a for word_b in unique_b]\n",
    "\n",
    "\n",
    "def interc(text_a: str, text_b: str) -> str:\n",
    "    ''' \n",
    "    Intercaleaza la fiecare 2 cuvinte din text_a un cuvant ales aleator din text_b si formeaza un text cu cuvintele noi separate prin spatiu\n",
    "    '''\n",
    "    words_a: List[str] = text_a.split()\n",
    "    words_b: List[str] = text_b.split()\n",
    "    result: List[str] = []\n",
    "\n",
    "    for i in range(0, len(words_a)):\n",
    "        if i % 2 == 0 and i != 0:\n",
    "            result.append(\"$\" + words_b[int(random() * len(words_b))])\n",
    "        result.append(words_a[i])\n",
    "\n",
    "    print(result)\n",
    "    return \" \".join(result)\n",
    "\n",
    "\n",
    "assert len(appearances(text_a, text_b)) == 13 and sum(appearances(text_a, text_b).values()) == len(text_a.split(\" \")) + len(text_b.split(\" \")) \n",
    "assert len(diff(text_a, text_b)) == 9\n",
    "assert len(comb(text_a, text_b)) == 42\n",
    "assert len(interc(text_a, text_b).split(\" \")) == len(text_a.split(\" \")) + len(text_a.split(\" \"))//2"
   ]
  },
  {
   "cell_type": "markdown",
   "metadata": {},
   "source": [
    "6. (2p) Se da o lista cu mai multe liste imbricate cu numere intregi drept elemente. \n",
    "    1. Scrieti o functie care calculeaza lista liniarizata.\n",
    "    2. Impartiti lista liniarizata in n matrice cu 3 linii si 3 coloane (umpleti ultima matrice cu valori 1 pana la completare). De exemplu, prima matrice formata pentru `nested_integer_list` ar fi `[[5, 12, 7], [3, 19, 25], [8, 14, 21]]`, iar ultima `[[10, 13, 1], [1, 1, 1], [1, 1, 1]]`. Calculati care este matricea cu valoarea maxima a produsului sumelor pe coloane. Functia va primi drept parametru lista liniarizata si va oferi un tuplu format din matricea si valoarea maxima ceruta."
   ]
  },
  {
   "cell_type": "code",
   "execution_count": 7,
   "metadata": {},
   "outputs": [
    {
     "name": "stdout",
     "output_type": "stream",
     "text": [
      "[[5, 12, 7], [3, 19, 25], [8, 14, 21]] 38160\n",
      "[[2, 17, 6], [11, 9, 18], [23, 4, 15]] 42120\n",
      "[[10, 13, 1], [1, 1, 1], [1, 1, 1]] 540\n"
     ]
    }
   ],
   "source": [
    "nested_integer_list = [\n",
    "    5, \n",
    "    [12, 7], \n",
    "    3, \n",
    "    [19, [25, 8]], \n",
    "    14, \n",
    "    21, \n",
    "    [2, [17, 6], 11], \n",
    "    9, \n",
    "    [18, 23], \n",
    "    [4, [15, [10, 13]]]\n",
    "]\n",
    "\n",
    "# Subpunct 1\n",
    "def liniarize(lista) -> List[int]:\n",
    "    '''\n",
    "    Returneaza o lista liniarizata dintr-o lista imbricata de numere intregi\n",
    "    '''\n",
    "    result: List[int] = []\n",
    "    for element in lista:\n",
    "        if type(element) == int:\n",
    "            result.append(element)\n",
    "        else:\n",
    "            result += liniarize(element)\n",
    "    return result\n",
    "\n",
    "# Subpunct 2\n",
    "def max_split(lista) -> Tuple[List[List[int]], int]:\n",
    "    ''' \n",
    "    Imparte o lista liniarizata in n matrice 3x3 daca lista are numarul de elemente multiplu de 9\n",
    "    Exemplu: [1, 2, 3, 4, 5, 6, 7, 8, 9] => [[1, 2, 3], [4, 5, 6], [7, 8, 9]]\n",
    "    Incarca ultima matrice 3x3 cu valoari de 1 daca lista nu are numarul de elemente multiplu de 9\n",
    "    Exemplu: [1, 2, 3, 4, 5, 6, 7, 8, 9, 10] => [[1, 2, 3], [4, 5, 6], [7, 8, 9]], [[10, 1, 1], [1, 1, 1], [1, 1, 1]]\n",
    "    Calculeaza care este matricea cu valoarea maxima a produsului sumelor pe coloane si returneaza un tuplu cu aceasta matrice si produsul\n",
    "    '''\n",
    "    matrices3x3: List[List[List[int]]] = []\n",
    "    mat3x3: Tuple[List[List[int]], int] = ([], 0)\n",
    "    prod: int = 1\n",
    "\n",
    "    if len(lista) % 9 != 0:\n",
    "        for i in range(len(lista) % 9, 9):\n",
    "            lista.append(1)\n",
    "\n",
    "    for i in range(0, len(lista), 9):\n",
    "        matrices3x3.append([lista[i:i+3], lista[i+3:i+6], lista[i+6:i+9]])\n",
    "\n",
    "    for matrix in matrices3x3:\n",
    "        p = 1;\n",
    "        for i in range(3):\n",
    "            p *= sum([matrix[j][i] for j in range(3)])\n",
    "\n",
    "        if p > prod:\n",
    "            prod = p\n",
    "            mat3x3 = matrix\n",
    "        \n",
    "        print(matrix, p)\n",
    "\n",
    "    return mat3x3, prod\n",
    "\n",
    "\n",
    "assert liniarize(nested_integer_list) == [5, 12, 7, 3, 19, 25, 8, 14, 21, 2, 17, 6, 11, 9, 18, 23, 4, 15, 10, 13]\n",
    "# for the badly formed assertion. The result is 42120, not 38160\n",
    "assert max_split(liniarize(nested_integer_list))[1] == 42120 \n"
   ]
  },
  {
   "cell_type": "code",
   "execution_count": null,
   "metadata": {},
   "outputs": [],
   "source": []
  }
 ],
 "metadata": {
  "kernelspec": {
   "display_name": "Python 3",
   "language": "python",
   "name": "python3"
  },
  "language_info": {
   "codemirror_mode": {
    "name": "ipython",
    "version": 3
   },
   "file_extension": ".py",
   "mimetype": "text/x-python",
   "name": "python",
   "nbconvert_exporter": "python",
   "pygments_lexer": "ipython3",
   "version": "3.13.0"
  }
 },
 "nbformat": 4,
 "nbformat_minor": 2
}
